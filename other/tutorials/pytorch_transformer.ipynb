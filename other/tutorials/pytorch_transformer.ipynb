{
 "cells": [
  {
   "cell_type": "code",
   "execution_count": 1,
   "metadata": {
    "collapsed": true,
    "pycharm": {
     "name": "#%%\n"
    }
   },
   "outputs": [],
   "source": [
    "import math\n",
    "from typing import Tuple\n",
    "\n",
    "import torch\n",
    "from torch import nn, Tensor\n",
    "import torch.nn.functional as F\n",
    "from torch.nn import TransformerEncoder, TransformerEncoderLayer\n",
    "from torch.utils.data import dataset\n",
    "\n",
    "class TransformerModel(nn.Module):\n",
    "\n",
    "    def __init__(self, ntoken: int, # number of possible embeddings\n",
    "                 d_model: int, # Expected number of features.\n",
    "                 nhead: int,  # Number of attention heads.\n",
    "                 d_hid: int, # Number of neurons in the hidden layer.\n",
    "                 nlayers: int, # Number of transformer layers.\n",
    "                 dropout: float = 0.5):\n",
    "        super().__init__()\n",
    "        self.model_type = 'Transformer'\n",
    "        self.pos_encoder = PositionalEncoding(d_model, dropout)\n",
    "        encoder_layers = TransformerEncoderLayer(d_model, nhead, d_hid, dropout)\n",
    "        self.transformer_encoder = TransformerEncoder(encoder_layers, nlayers)\n",
    "        self.encoder = nn.Embedding(ntoken, d_model)\n",
    "        self.d_model = d_model\n",
    "        self.decoder = nn.Linear(d_model, ntoken)\n",
    "\n",
    "        self.init_weights()\n",
    "\n",
    "    def init_weights(self) -> None:\n",
    "        initrange = 0.1\n",
    "        self.encoder.weight.data.uniform_(-initrange, initrange)\n",
    "        self.decoder.bias.data.zero_()\n",
    "        self.decoder.weight.data.uniform_(-initrange, initrange)\n",
    "\n",
    "    def forward(self, src: Tensor, src_mask: Tensor) -> Tensor:\n",
    "        \"\"\"\n",
    "        Args:\n",
    "            src: Tensor, shape [seq_len, batch_size]\n",
    "            src_mask: Tensor, shape [seq_len, seq_len]\n",
    "\n",
    "        Returns:\n",
    "            output Tensor of shape [seq_len, batch_size, ntoken]\n",
    "        \"\"\"\n",
    "        src = self.encoder(src) * math.sqrt(self.d_model)\n",
    "        src = self.pos_encoder(src)\n",
    "        output = self.transformer_encoder(src, src_mask)\n",
    "        output = self.decoder(output)\n",
    "        return output\n",
    "\n",
    "\n",
    "def generate_square_subsequent_mask(sz: int) -> Tensor:\n",
    "    \"\"\"Generates an upper-triangular matrix of -inf, with zeros on diag.\"\"\"\n",
    "    return torch.triu(torch.ones(sz, sz) * float('-inf'), diagonal=1)"
   ]
  },
  {
   "cell_type": "code",
   "execution_count": 2,
   "outputs": [],
   "source": [
    "class PositionalEncoding(nn.Module):\n",
    "\n",
    "    def __init__(self, d_model: int, dropout: float = 0.1, max_len: int = 5000):\n",
    "        super().__init__()\n",
    "        self.dropout = nn.Dropout(p=dropout)\n",
    "\n",
    "        position = torch.arange(max_len).unsqueeze(1)\n",
    "        div_term = torch.exp(torch.arange(0, d_model, 2) * (-math.log(10000.0) / d_model))\n",
    "        pe = torch.zeros(max_len, 1, d_model)\n",
    "        pe[:, 0, 0::2] = torch.sin(position * div_term)\n",
    "        pe[:, 0, 1::2] = torch.cos(position * div_term)\n",
    "        self.register_buffer('pe', pe)\n",
    "\n",
    "    def forward(self, x: Tensor) -> Tensor:\n",
    "        \"\"\"\n",
    "        Args:\n",
    "            x: Tensor, shape [seq_len, batch_size, embedding_dim]\n",
    "        \"\"\"\n",
    "        x = x + self.pe[:x.size(0)]\n",
    "        return self.dropout(x)"
   ],
   "metadata": {
    "collapsed": false,
    "pycharm": {
     "name": "#%%\n"
    }
   }
  },
  {
   "cell_type": "code",
   "execution_count": 3,
   "outputs": [
    {
     "name": "stderr",
     "output_type": "stream",
     "text": [
      "/home/niklasz/Desktop/ucla/reinforcement_learning/final_project/ece-239-as-micro-rts-project/venv/lib/python3.9/site-packages/torch/utils/data/datapipes/utils/common.py:24: UserWarning: Lambda function is not supported for pickle, please use regular python function or functools.partial instead.\n",
      "  warnings.warn(\n",
      "/home/niklasz/Desktop/ucla/reinforcement_learning/final_project/ece-239-as-micro-rts-project/venv/lib/python3.9/site-packages/torch/utils/data/datapipes/iter/selecting.py:54: UserWarning: Lambda function is not supported for pickle, please use regular python function or functools.partial instead.\n",
      "  warnings.warn(\"Lambda function is not supported for pickle, please use \"\n"
     ]
    }
   ],
   "source": [
    "from torchtext.datasets import WikiText2\n",
    "from torchtext.data.utils import get_tokenizer\n",
    "from torchtext.vocab import build_vocab_from_iterator\n",
    "\n",
    "train_iter = WikiText2(split='train')\n",
    "tokenizer = get_tokenizer('basic_english')\n",
    "vocab = build_vocab_from_iterator(map(tokenizer, train_iter), specials=['<unk>'])\n",
    "vocab.set_default_index(vocab['<unk>'])\n",
    "\n",
    "def data_process(raw_text_iter: dataset.IterableDataset) -> Tensor:\n",
    "    \"\"\"Converts raw text into a flat Tensor.\"\"\"\n",
    "    data = [torch.tensor(vocab(tokenizer(item)), dtype=torch.long) for item in raw_text_iter]\n",
    "    return torch.cat(tuple(filter(lambda t: t.numel() > 0, data)))\n",
    "\n",
    "# train_iter was \"consumed\" by the process of building the vocab,\n",
    "# so we have to create it again\n",
    "train_iter, val_iter, test_iter = WikiText2()\n",
    "train_data = data_process(train_iter)\n",
    "val_data = data_process(val_iter)\n",
    "test_data = data_process(test_iter)\n",
    "\n",
    "device = torch.device('cuda' if torch.cuda.is_available() else 'cpu')\n",
    "\n",
    "def batchify(data: Tensor, bsz: int) -> Tensor:\n",
    "    \"\"\"Divides the data into bsz separate sequences, removing extra elements\n",
    "    that wouldn't cleanly fit.\n",
    "\n",
    "    Args:\n",
    "        data: Tensor, shape [N]\n",
    "        bsz: int, batch size\n",
    "\n",
    "    Returns:\n",
    "        Tensor of shape [N // bsz, bsz]\n",
    "    \"\"\"\n",
    "    seq_len = data.size(0) // bsz\n",
    "    data = data[:seq_len * bsz]\n",
    "    data = data.view(bsz, seq_len).t().contiguous()\n",
    "    return data.to(device)\n",
    "\n",
    "batch_size = 20\n",
    "eval_batch_size = 10\n",
    "train_data = batchify(train_data, batch_size)  # shape [seq_len, batch_size]\n",
    "val_data = batchify(val_data, eval_batch_size)\n",
    "test_data = batchify(test_data, eval_batch_size)"
   ],
   "metadata": {
    "collapsed": false,
    "pycharm": {
     "name": "#%%\n"
    }
   }
  },
  {
   "cell_type": "code",
   "execution_count": 4,
   "outputs": [],
   "source": [
    "bptt = 35\n",
    "def get_batch(source: Tensor, i: int) -> Tuple[Tensor, Tensor]:\n",
    "    \"\"\"\n",
    "    Args:\n",
    "        source: Tensor, shape [full_seq_len, batch_size]\n",
    "        i: int\n",
    "\n",
    "    Returns:\n",
    "        tuple (data, target), where data has shape [seq_len, batch_size] and\n",
    "        target has shape [seq_len * batch_size]\n",
    "    \"\"\"\n",
    "    seq_len = min(bptt, len(source) - 1 - i)\n",
    "    data = source[i:i+seq_len]\n",
    "    target = source[i+1:i+1+seq_len].reshape(-1)\n",
    "    return data, target"
   ],
   "metadata": {
    "collapsed": false,
    "pycharm": {
     "name": "#%%\n"
    }
   }
  },
  {
   "cell_type": "code",
   "execution_count": 5,
   "outputs": [],
   "source": [
    "ntokens = len(vocab)  # size of vocabulary\n",
    "emsize = 200  # embedding dimension\n",
    "d_hid = 200  # dimension of the feedforward network model in nn.TransformerEncoder\n",
    "nlayers = 2  # number of nn.TransformerEncoderLayer in nn.TransformerEncoder\n",
    "nhead = 2  # number of heads in nn.MultiheadAttention\n",
    "dropout = 0.2  # dropout probability\n",
    "model = TransformerModel(ntokens, emsize, nhead, d_hid, nlayers, dropout).to(device)"
   ],
   "metadata": {
    "collapsed": false,
    "pycharm": {
     "name": "#%%\n"
    }
   }
  },
  {
   "cell_type": "code",
   "execution_count": 6,
   "outputs": [],
   "source": [
    "import copy\n",
    "import time\n",
    "\n",
    "criterion = nn.CrossEntropyLoss()\n",
    "lr = 5.0  # learning rate\n",
    "optimizer = torch.optim.SGD(model.parameters(), lr=lr)\n",
    "scheduler = torch.optim.lr_scheduler.StepLR(optimizer, 1.0, gamma=0.95)\n",
    "\n",
    "def train(model: nn.Module) -> None:\n",
    "    model.train()  # turn on train mode\n",
    "    total_loss = 0.\n",
    "    log_interval = 200\n",
    "    start_time = time.time()\n",
    "    src_mask = generate_square_subsequent_mask(bptt).to(device)\n",
    "\n",
    "    num_batches = len(train_data) // bptt\n",
    "    for batch, i in enumerate(range(0, train_data.size(0) - 1, bptt)):\n",
    "        data, targets = get_batch(train_data, i)\n",
    "        batch_size = data.size(0)\n",
    "        if batch_size != bptt:  # only on last batch\n",
    "            src_mask = src_mask[:batch_size, :batch_size]\n",
    "        output = model(data, src_mask)\n",
    "        loss = criterion(output.view(-1, ntokens), targets)\n",
    "\n",
    "        optimizer.zero_grad()\n",
    "        loss.backward()\n",
    "        torch.nn.utils.clip_grad_norm_(model.parameters(), 0.5)\n",
    "        optimizer.step()\n",
    "\n",
    "        total_loss += loss.item()\n",
    "        if batch % log_interval == 0 and batch > 0:\n",
    "            lr = scheduler.get_last_lr()[0]\n",
    "            ms_per_batch = (time.time() - start_time) * 1000 / log_interval\n",
    "            cur_loss = total_loss / log_interval\n",
    "            ppl = math.exp(cur_loss)\n",
    "            print(f'| epoch {epoch:3d} | {batch:5d}/{num_batches:5d} batches | '\n",
    "                  f'lr {lr:02.2f} | ms/batch {ms_per_batch:5.2f} | '\n",
    "                  f'loss {cur_loss:5.2f} | ppl {ppl:8.2f}')\n",
    "            total_loss = 0\n",
    "            start_time = time.time()\n",
    "\n",
    "def evaluate(model: nn.Module, eval_data: Tensor) -> float:\n",
    "    model.eval()  # turn on evaluation mode\n",
    "    total_loss = 0.\n",
    "    src_mask = generate_square_subsequent_mask(bptt).to(device)\n",
    "    with torch.no_grad():\n",
    "        for i in range(0, eval_data.size(0) - 1, bptt):\n",
    "            data, targets = get_batch(eval_data, i)\n",
    "            batch_size = data.size(0)\n",
    "            if batch_size != bptt:\n",
    "                src_mask = src_mask[:batch_size, :batch_size]\n",
    "            output = model(data, src_mask)\n",
    "            output_flat = output.view(-1, ntokens)\n",
    "            total_loss += batch_size * criterion(output_flat, targets).item()\n",
    "    return total_loss / (len(eval_data) - 1)"
   ],
   "metadata": {
    "collapsed": false,
    "pycharm": {
     "name": "#%%\n"
    }
   }
  },
  {
   "cell_type": "code",
   "execution_count": 7,
   "outputs": [
    {
     "name": "stdout",
     "output_type": "stream",
     "text": [
      "| epoch   1 |   200/ 2928 batches | lr 5.00 | ms/batch  8.64 | loss  8.13 | ppl  3388.28\n",
      "| epoch   1 |   400/ 2928 batches | lr 5.00 | ms/batch  8.62 | loss  6.92 | ppl  1008.49\n",
      "| epoch   1 |   600/ 2928 batches | lr 5.00 | ms/batch  8.51 | loss  6.46 | ppl   637.98\n",
      "| epoch   1 |   800/ 2928 batches | lr 5.00 | ms/batch  9.68 | loss  6.31 | ppl   548.19\n",
      "| epoch   1 |  1000/ 2928 batches | lr 5.00 | ms/batch 10.13 | loss  6.19 | ppl   489.30\n",
      "| epoch   1 |  1200/ 2928 batches | lr 5.00 | ms/batch  9.85 | loss  6.16 | ppl   471.66\n",
      "| epoch   1 |  1400/ 2928 batches | lr 5.00 | ms/batch  9.04 | loss  6.12 | ppl   452.90\n",
      "| epoch   1 |  1600/ 2928 batches | lr 5.00 | ms/batch  9.01 | loss  6.11 | ppl   448.49\n",
      "| epoch   1 |  1800/ 2928 batches | lr 5.00 | ms/batch 10.05 | loss  6.03 | ppl   414.66\n",
      "| epoch   1 |  2000/ 2928 batches | lr 5.00 | ms/batch  8.92 | loss  6.02 | ppl   413.39\n",
      "| epoch   1 |  2200/ 2928 batches | lr 5.00 | ms/batch  9.08 | loss  5.90 | ppl   365.22\n",
      "| epoch   1 |  2400/ 2928 batches | lr 5.00 | ms/batch  9.09 | loss  5.98 | ppl   394.32\n",
      "| epoch   1 |  2600/ 2928 batches | lr 5.00 | ms/batch  9.87 | loss  5.96 | ppl   386.55\n",
      "| epoch   1 |  2800/ 2928 batches | lr 5.00 | ms/batch  9.03 | loss  5.88 | ppl   359.42\n",
      "-----------------------------------------------------------------------------------------\n",
      "| end of epoch   1 | time: 28.41s | valid loss  5.82 | valid ppl   338.30\n",
      "-----------------------------------------------------------------------------------------\n",
      "| epoch   2 |   200/ 2928 batches | lr 4.75 | ms/batch 10.73 | loss  5.87 | ppl   352.51\n",
      "| epoch   2 |   400/ 2928 batches | lr 4.75 | ms/batch 10.32 | loss  5.86 | ppl   350.21\n",
      "| epoch   2 |   600/ 2928 batches | lr 4.75 | ms/batch  9.80 | loss  5.67 | ppl   290.07\n",
      "| epoch   2 |   800/ 2928 batches | lr 4.75 | ms/batch 10.99 | loss  5.70 | ppl   299.44\n",
      "| epoch   2 |  1000/ 2928 batches | lr 4.75 | ms/batch  9.88 | loss  5.65 | ppl   284.69\n",
      "| epoch   2 |  1200/ 2928 batches | lr 4.75 | ms/batch  9.11 | loss  5.68 | ppl   293.48\n",
      "| epoch   2 |  1400/ 2928 batches | lr 4.75 | ms/batch  9.06 | loss  5.70 | ppl   297.65\n",
      "| epoch   2 |  1600/ 2928 batches | lr 4.75 | ms/batch  9.04 | loss  5.71 | ppl   302.71\n",
      "| epoch   2 |  1800/ 2928 batches | lr 4.75 | ms/batch  9.49 | loss  5.65 | ppl   283.87\n",
      "| epoch   2 |  2000/ 2928 batches | lr 4.75 | ms/batch  9.58 | loss  5.67 | ppl   289.94\n",
      "| epoch   2 |  2200/ 2928 batches | lr 4.75 | ms/batch  9.58 | loss  5.56 | ppl   259.23\n",
      "| epoch   2 |  2400/ 2928 batches | lr 4.75 | ms/batch  9.54 | loss  5.65 | ppl   283.57\n",
      "| epoch   2 |  2600/ 2928 batches | lr 4.75 | ms/batch  9.53 | loss  5.64 | ppl   281.29\n",
      "| epoch   2 |  2800/ 2928 batches | lr 4.75 | ms/batch  9.59 | loss  5.58 | ppl   264.68\n",
      "-----------------------------------------------------------------------------------------\n",
      "| end of epoch   2 | time: 29.74s | valid loss  5.65 | valid ppl   284.66\n",
      "-----------------------------------------------------------------------------------------\n",
      "| epoch   3 |   200/ 2928 batches | lr 4.51 | ms/batch  9.18 | loss  5.60 | ppl   271.29\n",
      "| epoch   3 |   400/ 2928 batches | lr 4.51 | ms/batch  9.58 | loss  5.63 | ppl   277.66\n",
      "| epoch   3 |   600/ 2928 batches | lr 4.51 | ms/batch  9.57 | loss  5.42 | ppl   226.87\n",
      "| epoch   3 |   800/ 2928 batches | lr 4.51 | ms/batch  9.38 | loss  5.48 | ppl   240.90\n",
      "| epoch   3 |  1000/ 2928 batches | lr 4.51 | ms/batch  9.43 | loss  5.44 | ppl   231.40\n",
      "| epoch   3 |  1200/ 2928 batches | lr 4.51 | ms/batch  9.46 | loss  5.47 | ppl   237.46\n",
      "| epoch   3 |  1400/ 2928 batches | lr 4.51 | ms/batch  9.46 | loss  5.49 | ppl   242.05\n",
      "| epoch   3 |  1600/ 2928 batches | lr 4.51 | ms/batch  9.43 | loss  5.52 | ppl   248.77\n",
      "| epoch   3 |  1800/ 2928 batches | lr 4.51 | ms/batch  9.30 | loss  5.46 | ppl   234.78\n",
      "| epoch   3 |  2000/ 2928 batches | lr 4.51 | ms/batch  9.45 | loss  5.48 | ppl   240.56\n",
      "| epoch   3 |  2200/ 2928 batches | lr 4.51 | ms/batch  9.79 | loss  5.36 | ppl   212.49\n",
      "| epoch   3 |  2400/ 2928 batches | lr 4.51 | ms/batch  9.44 | loss  5.46 | ppl   234.25\n",
      "| epoch   3 |  2600/ 2928 batches | lr 4.51 | ms/batch  9.46 | loss  5.46 | ppl   234.93\n",
      "| epoch   3 |  2800/ 2928 batches | lr 4.51 | ms/batch  9.70 | loss  5.41 | ppl   224.59\n",
      "-----------------------------------------------------------------------------------------\n",
      "| end of epoch   3 | time: 29.04s | valid loss  5.61 | valid ppl   272.68\n",
      "-----------------------------------------------------------------------------------------\n"
     ]
    }
   ],
   "source": [
    "best_val_loss = float('inf')\n",
    "epochs = 3\n",
    "best_model = None\n",
    "\n",
    "for epoch in range(1, epochs + 1):\n",
    "    epoch_start_time = time.time()\n",
    "    train(model)\n",
    "    val_loss = evaluate(model, val_data)\n",
    "    val_ppl = math.exp(val_loss)\n",
    "    elapsed = time.time() - epoch_start_time\n",
    "    print('-' * 89)\n",
    "    print(f'| end of epoch {epoch:3d} | time: {elapsed:5.2f}s | '\n",
    "          f'valid loss {val_loss:5.2f} | valid ppl {val_ppl:8.2f}')\n",
    "    print('-' * 89)\n",
    "\n",
    "    if val_loss < best_val_loss:\n",
    "        best_val_loss = val_loss\n",
    "        best_model = copy.deepcopy(model)\n",
    "\n",
    "    scheduler.step()"
   ],
   "metadata": {
    "collapsed": false,
    "pycharm": {
     "name": "#%%\n"
    }
   }
  }
 ],
 "metadata": {
  "kernelspec": {
   "display_name": "Python 3",
   "language": "python",
   "name": "python3"
  },
  "language_info": {
   "codemirror_mode": {
    "name": "ipython",
    "version": 2
   },
   "file_extension": ".py",
   "mimetype": "text/x-python",
   "name": "python",
   "nbconvert_exporter": "python",
   "pygments_lexer": "ipython2",
   "version": "2.7.6"
  }
 },
 "nbformat": 4,
 "nbformat_minor": 0
}